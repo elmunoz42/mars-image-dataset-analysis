{
 "cells": [
  {
   "cell_type": "code",
   "execution_count": 2,
   "id": "effc0611-cb64-4a87-8510-1d50c4050403",
   "metadata": {},
   "outputs": [],
   "source": [
    "import pandas as pd\n",
    "import numpy as np\n",
    "\n"
   ]
  },
  {
   "cell_type": "code",
   "execution_count": 17,
   "id": "8909211a-acad-4315-a16b-b72d12ba2207",
   "metadata": {},
   "outputs": [],
   "source": [
    "# df = pd.read_csv('/data/space-missions/space_missions.csv', encoding='latin1')\n",
    "# print(df.head())\n",
    "# Loaded here: https://www.kaggle.com/code/carlosmunozkampff/notebook831c35ceb1 and digested to this data:\n",
    "# Data\n",
    "data = {\n",
    "    'Year': [1957, 1958, 1959, 1960, 1961, 1962, 1963, 1964, 1965, 1966, 1967, 1968, 1969, 1970, 1971, 1972, 1973, 1974, 1975, 1976, 1977, 1978, 1979, 1980, 1981, 1982, 1983, 1984, 1985, 1986, 1987, 1988, 1989, 1990, 1991, 1992, 1993, 1994, 1995, 1996, 1997, 1998, 1999, 2000, 2001, 2002, 2003, 2004, 2005, 2006, 2007, 2008, 2009, 2010, 2011, 2012, 2013, 2014, 2015, 2016, 2017, 2018, 2019, 2020, 2021, 2022],\n",
    "    'Number of Missions': [3, 28, 20, 39, 52, 82, 41, 60, 87, 101, 106, 103, 103, 107, 119, 99, 103, 98, 113, 113, 114, 97, 49, 55, 71, 67, 66, 69, 74, 62, 56, 59, 52, 80, 59, 62, 61, 64, 61, 60, 70, 68, 57, 57, 43, 49, 52, 40, 37, 49, 50, 48, 50, 37, 42, 38, 46, 53, 52, 90, 92, 117, 109, 119, 157, 93]\n",
    "}"
   ]
  },
  {
   "cell_type": "code",
   "execution_count": 18,
   "id": "e088feac-3be3-41ee-aae3-33e22076d289",
   "metadata": {},
   "outputs": [
    {
     "name": "stdout",
     "output_type": "stream",
     "text": [
      "            Number of Missions\n",
      "datetime                      \n",
      "1957-01-01                   3\n",
      "1958-01-01                  28\n",
      "1959-01-01                  20\n",
      "1960-01-01                  39\n",
      "1961-01-01                  52\n",
      "...                        ...\n",
      "2018-01-01                 117\n",
      "2019-01-01                 109\n",
      "2020-01-01                 119\n",
      "2021-01-01                 157\n",
      "2022-01-01                  93\n",
      "\n",
      "[66 rows x 1 columns]\n"
     ]
    }
   ],
   "source": [
    "\n",
    "# Create DataFrame\n",
    "missions_per_year = pd.DataFrame(data)\n",
    "\n",
    "# Convert 'Year' to datetime and set as index\n",
    "missions_per_year['datetime'] = pd.to_datetime(missions_per_year['Year'], format='%Y')\n",
    "missions_per_year = missions_per_year.drop('Year', axis=1).set_index('datetime')\n",
    "\n",
    "# Display the updated DataFrame\n",
    "print(missions_per_year)\n"
   ]
  },
  {
   "cell_type": "code",
   "execution_count": 11,
   "id": "fe285248-455c-4a9a-a108-901809164d6d",
   "metadata": {},
   "outputs": [
    {
     "data": {
      "text/html": [
       "<div>\n",
       "<style scoped>\n",
       "    .dataframe tbody tr th:only-of-type {\n",
       "        vertical-align: middle;\n",
       "    }\n",
       "\n",
       "    .dataframe tbody tr th {\n",
       "        vertical-align: top;\n",
       "    }\n",
       "\n",
       "    .dataframe thead th {\n",
       "        text-align: right;\n",
       "    }\n",
       "</style>\n",
       "<table border=\"1\" class=\"dataframe\">\n",
       "  <thead>\n",
       "    <tr style=\"text-align: right;\">\n",
       "      <th></th>\n",
       "      <th>Year</th>\n",
       "      <th>Number of Missions</th>\n",
       "    </tr>\n",
       "  </thead>\n",
       "  <tbody>\n",
       "    <tr>\n",
       "      <th>0</th>\n",
       "      <td>1957</td>\n",
       "      <td>3</td>\n",
       "    </tr>\n",
       "    <tr>\n",
       "      <th>1</th>\n",
       "      <td>1958</td>\n",
       "      <td>28</td>\n",
       "    </tr>\n",
       "    <tr>\n",
       "      <th>2</th>\n",
       "      <td>1959</td>\n",
       "      <td>20</td>\n",
       "    </tr>\n",
       "    <tr>\n",
       "      <th>3</th>\n",
       "      <td>1960</td>\n",
       "      <td>39</td>\n",
       "    </tr>\n",
       "    <tr>\n",
       "      <th>4</th>\n",
       "      <td>1961</td>\n",
       "      <td>52</td>\n",
       "    </tr>\n",
       "  </tbody>\n",
       "</table>\n",
       "</div>"
      ],
      "text/plain": [
       "   Year  Number of Missions\n",
       "0  1957                   3\n",
       "1  1958                  28\n",
       "2  1959                  20\n",
       "3  1960                  39\n",
       "4  1961                  52"
      ]
     },
     "execution_count": 11,
     "metadata": {},
     "output_type": "execute_result"
    }
   ],
   "source": [
    "missions_per_year.head()"
   ]
  },
  {
   "cell_type": "code",
   "execution_count": null,
   "id": "ff6bf492-a2e6-4775-887a-880dfb857bad",
   "metadata": {},
   "outputs": [],
   "source": []
  },
  {
   "cell_type": "code",
   "execution_count": null,
   "id": "ca58a56c-f50f-4caa-ba12-f3a4d3664ad3",
   "metadata": {},
   "outputs": [],
   "source": []
  }
 ],
 "metadata": {
  "kernelspec": {
   "display_name": "Python 3 (ipykernel)",
   "language": "python",
   "name": "python3"
  },
  "language_info": {
   "codemirror_mode": {
    "name": "ipython",
    "version": 3
   },
   "file_extension": ".py",
   "mimetype": "text/x-python",
   "name": "python",
   "nbconvert_exporter": "python",
   "pygments_lexer": "ipython3",
   "version": "3.11.7"
  }
 },
 "nbformat": 4,
 "nbformat_minor": 5
}
