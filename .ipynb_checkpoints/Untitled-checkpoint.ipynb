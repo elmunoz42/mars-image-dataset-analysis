{
 "cells": [
  {
   "cell_type": "code",
   "execution_count": 1,
   "id": "3e9c65fc-9f82-43fb-b269-11ad759948b0",
   "metadata": {},
   "outputs": [],
   "source": [
    "import pandas as pd"
   ]
  },
  {
   "cell_type": "code",
   "execution_count": 8,
   "id": "3183db3d-99ad-4000-ad15-d521328e831b",
   "metadata": {},
   "outputs": [
    {
     "name": "stdout",
     "output_type": "stream",
     "text": [
      "               ImageID  Variation  \\\n",
      "0  ESP_011283_2265_RED  0030-r180   \n",
      "1  ESP_011289_1950_RED   0021-brt   \n",
      "2  ESP_011289_1950_RED   0021-r90   \n",
      "3  ESP_011289_1950_RED    0023-fh   \n",
      "4  ESP_011289_1950_RED    0024-fv   \n",
      "\n",
      "                                                Link  \n",
      "0  https://space-exploration.news/wp-content/uplo...  \n",
      "1  https://space-exploration.news/wp-content/uplo...  \n",
      "2  https://space-exploration.news/wp-content/uplo...  \n",
      "3  https://space-exploration.news/wp-content/uplo...  \n",
      "4  https://space-exploration.news/wp-content/uplo...  \n"
     ]
    }
   ],
   "source": [
    "import pandas as pd\n",
    "\n",
    "# Example list of image filenames\n",
    "image_filenames = [\n",
    "    \"ESP_011283_2265_RED-0030-r180\",\n",
    "    \"ESP_011289_1950_RED-0021-brt\",\n",
    "    \"ESP_011289_1950_RED-0021-r90\",\n",
    "    \"ESP_011289_1950_RED-0023-fh\",\n",
    "    \"ESP_011289_1950_RED-0024-fv\",\n",
    "    \"ESP_011289_1950_RED-0024-r180\",\n",
    "    \"ESP_011289_1950_RED-0026-r270\",\n",
    "    \"ESP_011289_1950_RED-0039\",\n",
    "    \"ESP_011289_1950_RED-0040-fh\",\n",
    "    \"ESP_011289_1950_RED-0043-brt\",\n",
    "    \"ESP_011289_1950_RED-0043-r90\",\n",
    "    \"ESP_011289_1950_RED-0050-r270\",\n",
    "    \"ESP_011289_1950_RED-0058-r180\",\n",
    "    \"ESP_011289_1950_RED-0063-fv\",\n",
    "    \"ESP_011289_1950_RED-0081-brt\",\n",
    "    \"ESP_011289_1950_RED-0081-r90\",\n",
    "    \"ESP_011289_1950_RED-0081-r270\",\n",
    "    \"ESP_011289_1950_RED-0083-r180\",\n",
    "    \"ESP_011289_1950_RED-0085-fh\",\n",
    "    \"ESP_011289_1950_RED-0097-fh\",\n",
    "    \"ESP_011289_1950_RED-0098-brt\",\n",
    "    \"ESP_011289_1950_RED-0098-190\",\n",
    "    \"ESP_011289_1950_RED-0104-190\",\n",
    "    \"ESP_011289_1950_RED-0112-r180\",\n",
    "    \"ESP_011289_1950_RED-0119-fh\",\n",
    "    \"ESP_011289_1950_RED-0119-brt\",\n",
    "    \"ESP_011289_1950_RED-0120-r90\",\n",
    "    \"ESP_011289_1950_RED-0121-r90\",\n",
    "    \"ESP_011289_1950_RED-0122-r90\",\n",
    "    \"ESP_011289_1950_RED-0131-fh\",\n",
    "    \"ESP_011289_1950_RED-0140-fh\",\n",
    "    \"ESP_011289_1950_RED-0147-fv\",\n",
    "    \"ESP_011289_1950_RED-0150-brt\"\n",
    "]\n",
    "\n",
    "# Initialize an empty DataFrame\n",
    "df = pd.DataFrame(columns=[\"ImageID\", \"Variation\", \"Link\"])\n",
    "\n",
    "# Extract image IDs and variations\n",
    "for filename in image_filenames:\n",
    "    image_id, variation = filename.split(\"-\", 1)  # Split only once\n",
    "    df = df._append({\"ImageID\": image_id, \"Variation\": variation, \"Link\": f\"https://space-exploration.news/wp-content/uploads/mars-images/some-images/{filename}\"}, ignore_index=True)\n",
    "\n",
    "# Display the resulting DataFrame\n",
    "print(df.head())"
   ]
  },
  {
   "cell_type": "code",
   "execution_count": null,
   "id": "44e267a3-f130-4d9a-810f-6f006396569e",
   "metadata": {},
   "outputs": [],
   "source": []
  }
 ],
 "metadata": {
  "kernelspec": {
   "display_name": "Python 3 (ipykernel)",
   "language": "python",
   "name": "python3"
  },
  "language_info": {
   "codemirror_mode": {
    "name": "ipython",
    "version": 3
   },
   "file_extension": ".py",
   "mimetype": "text/x-python",
   "name": "python",
   "nbconvert_exporter": "python",
   "pygments_lexer": "ipython3",
   "version": "3.11.7"
  }
 },
 "nbformat": 4,
 "nbformat_minor": 5
}
