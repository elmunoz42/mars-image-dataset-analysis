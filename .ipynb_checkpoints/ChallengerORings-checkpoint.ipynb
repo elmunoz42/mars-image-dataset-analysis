{
 "cells": [
  {
   "cell_type": "code",
   "execution_count": null,
   "id": "fe753576-1d6d-4d76-b9d0-952bc07622fb",
   "metadata": {},
   "outputs": [],
   "source": [
    "import pandas as pd\n",
    "\n",
    "# Load the training data (sat.trn)\n",
    "data = pd.read_csv(\"challenger.data\", sep=\" \", header=None)\n",
    "\n",
    "# Assuming the columns are named as \"Feature1\", \"Feature2\", ..., \"Feature36\", \"Label\"\n",
    "column_names = [f\"Feature{i}\" for i in range(1, 37)] + [\"Label\"]\n",
    "data.columns = column_names\n",
    "\n",
    "# Display the first few rows of the DataFrame\n",
    "print(data.head())\n",
    "print(data.describe())"
   ]
  }
 ],
 "metadata": {
  "kernelspec": {
   "display_name": "Python 3 (ipykernel)",
   "language": "python",
   "name": "python3"
  },
  "language_info": {
   "codemirror_mode": {
    "name": "ipython",
    "version": 3
   },
   "file_extension": ".py",
   "mimetype": "text/x-python",
   "name": "python",
   "nbconvert_exporter": "python",
   "pygments_lexer": "ipython3",
   "version": "3.11.7"
  }
 },
 "nbformat": 4,
 "nbformat_minor": 5
}
