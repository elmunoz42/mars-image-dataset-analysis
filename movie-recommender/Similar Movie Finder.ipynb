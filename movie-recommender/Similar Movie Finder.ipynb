{
 "cells": [
  {
   "cell_type": "code",
   "execution_count": 1,
   "id": "1e13989c-bd70-4a50-bc01-488c8f819ea9",
   "metadata": {},
   "outputs": [],
   "source": [
    "import pandas as pd"
   ]
  },
  {
   "cell_type": "code",
   "execution_count": 2,
   "id": "3ddf83ed-dd5a-4e8e-9e0f-851e925d3fdb",
   "metadata": {},
   "outputs": [],
   "source": [
    "movies = pd.read_csv(\"https://github.com/SavioSal/datasets/raw/master/movie_clean.csv\", encoding='unicode_escape')"
   ]
  },
  {
   "cell_type": "code",
   "execution_count": 3,
   "id": "3573ed96-cb28-4b91-9496-072fae18e461",
   "metadata": {},
   "outputs": [
    {
     "data": {
      "text/html": [
       "<div>\n",
       "<style scoped>\n",
       "    .dataframe tbody tr th:only-of-type {\n",
       "        vertical-align: middle;\n",
       "    }\n",
       "\n",
       "    .dataframe tbody tr th {\n",
       "        vertical-align: top;\n",
       "    }\n",
       "\n",
       "    .dataframe thead th {\n",
       "        text-align: right;\n",
       "    }\n",
       "</style>\n",
       "<table border=\"1\" class=\"dataframe\">\n",
       "  <thead>\n",
       "    <tr style=\"text-align: right;\">\n",
       "      <th></th>\n",
       "      <th>title</th>\n",
       "      <th>genres</th>\n",
       "      <th>runtime</th>\n",
       "      <th>vote_average</th>\n",
       "      <th>vote_count</th>\n",
       "      <th>year</th>\n",
       "      <th>overview</th>\n",
       "    </tr>\n",
       "  </thead>\n",
       "  <tbody>\n",
       "    <tr>\n",
       "      <th>0</th>\n",
       "      <td>Toy Story</td>\n",
       "      <td>['animation', 'comedy', 'family']</td>\n",
       "      <td>81.0</td>\n",
       "      <td>7.7</td>\n",
       "      <td>5415.0</td>\n",
       "      <td>1995.0</td>\n",
       "      <td>Led by Woody, Andy's toys live happily in his ...</td>\n",
       "    </tr>\n",
       "    <tr>\n",
       "      <th>1</th>\n",
       "      <td>Jumanji</td>\n",
       "      <td>['adventure', 'fantasy', 'family']</td>\n",
       "      <td>104.0</td>\n",
       "      <td>6.9</td>\n",
       "      <td>2413.0</td>\n",
       "      <td>1995.0</td>\n",
       "      <td>When siblings Judy and Peter discover an encha...</td>\n",
       "    </tr>\n",
       "    <tr>\n",
       "      <th>2</th>\n",
       "      <td>Grumpier Old Men</td>\n",
       "      <td>['romance', 'comedy']</td>\n",
       "      <td>101.0</td>\n",
       "      <td>6.5</td>\n",
       "      <td>92.0</td>\n",
       "      <td>1995.0</td>\n",
       "      <td>A family wedding reignites the ancient feud be...</td>\n",
       "    </tr>\n",
       "    <tr>\n",
       "      <th>3</th>\n",
       "      <td>Waiting to Exhale</td>\n",
       "      <td>['comedy', 'drama', 'romance']</td>\n",
       "      <td>127.0</td>\n",
       "      <td>6.1</td>\n",
       "      <td>34.0</td>\n",
       "      <td>1995.0</td>\n",
       "      <td>Cheated on, mistreated and stepped on, the wom...</td>\n",
       "    </tr>\n",
       "    <tr>\n",
       "      <th>4</th>\n",
       "      <td>Father of the Bride Part II</td>\n",
       "      <td>['comedy']</td>\n",
       "      <td>106.0</td>\n",
       "      <td>5.7</td>\n",
       "      <td>173.0</td>\n",
       "      <td>1995.0</td>\n",
       "      <td>Just when George Banks has recovered from his ...</td>\n",
       "    </tr>\n",
       "  </tbody>\n",
       "</table>\n",
       "</div>"
      ],
      "text/plain": [
       "                         title                              genres  runtime  \\\n",
       "0                    Toy Story   ['animation', 'comedy', 'family']     81.0   \n",
       "1                      Jumanji  ['adventure', 'fantasy', 'family']    104.0   \n",
       "2             Grumpier Old Men               ['romance', 'comedy']    101.0   \n",
       "3            Waiting to Exhale      ['comedy', 'drama', 'romance']    127.0   \n",
       "4  Father of the Bride Part II                          ['comedy']    106.0   \n",
       "\n",
       "   vote_average  vote_count    year  \\\n",
       "0           7.7      5415.0  1995.0   \n",
       "1           6.9      2413.0  1995.0   \n",
       "2           6.5        92.0  1995.0   \n",
       "3           6.1        34.0  1995.0   \n",
       "4           5.7       173.0  1995.0   \n",
       "\n",
       "                                            overview  \n",
       "0  Led by Woody, Andy's toys live happily in his ...  \n",
       "1  When siblings Judy and Peter discover an encha...  \n",
       "2  A family wedding reignites the ancient feud be...  \n",
       "3  Cheated on, mistreated and stepped on, the wom...  \n",
       "4  Just when George Banks has recovered from his ...  "
      ]
     },
     "execution_count": 3,
     "metadata": {},
     "output_type": "execute_result"
    }
   ],
   "source": [
    "movies.head()"
   ]
  },
  {
   "cell_type": "code",
   "execution_count": 4,
   "id": "83dc5f4f-1a1d-4a87-8051-a767d55b1e49",
   "metadata": {},
   "outputs": [
    {
     "data": {
      "text/plain": [
       "(7714, 7)"
      ]
     },
     "execution_count": 4,
     "metadata": {},
     "output_type": "execute_result"
    }
   ],
   "source": [
    "movies_new = movies[movies['vote_average']>7]\n",
    "movies_new.shape"
   ]
  },
  {
   "cell_type": "code",
   "execution_count": 5,
   "id": "7cc5befb-afa6-48d3-8244-1ed8264a529a",
   "metadata": {},
   "outputs": [],
   "source": [
    "movies_new = movies_new.reset_index()"
   ]
  },
  {
   "cell_type": "code",
   "execution_count": 6,
   "id": "6b2822d2-98ea-4c58-b72e-0a56deb51aa7",
   "metadata": {},
   "outputs": [
    {
     "data": {
      "text/html": [
       "<div>\n",
       "<style scoped>\n",
       "    .dataframe tbody tr th:only-of-type {\n",
       "        vertical-align: middle;\n",
       "    }\n",
       "\n",
       "    .dataframe tbody tr th {\n",
       "        vertical-align: top;\n",
       "    }\n",
       "\n",
       "    .dataframe thead th {\n",
       "        text-align: right;\n",
       "    }\n",
       "</style>\n",
       "<table border=\"1\" class=\"dataframe\">\n",
       "  <thead>\n",
       "    <tr style=\"text-align: right;\">\n",
       "      <th></th>\n",
       "      <th>index</th>\n",
       "      <th>title</th>\n",
       "      <th>genres</th>\n",
       "      <th>runtime</th>\n",
       "      <th>vote_average</th>\n",
       "      <th>vote_count</th>\n",
       "      <th>year</th>\n",
       "      <th>overview</th>\n",
       "    </tr>\n",
       "  </thead>\n",
       "  <tbody>\n",
       "    <tr>\n",
       "      <th>7709</th>\n",
       "      <td>45418</td>\n",
       "      <td>Dyketactics</td>\n",
       "      <td>['drama']</td>\n",
       "      <td>4.0</td>\n",
       "      <td>8.0</td>\n",
       "      <td>1.0</td>\n",
       "      <td>1974.0</td>\n",
       "      <td>Klasa II B jako zadanie domowe otrzymuje do na...</td>\n",
       "    </tr>\n",
       "    <tr>\n",
       "      <th>7710</th>\n",
       "      <td>45421</td>\n",
       "      <td>Pickpocket</td>\n",
       "      <td>['drama', 'foreign']</td>\n",
       "      <td>105.0</td>\n",
       "      <td>7.2</td>\n",
       "      <td>13.0</td>\n",
       "      <td>1997.0</td>\n",
       "      <td>It's Christmas, and children at an orphanage i...</td>\n",
       "    </tr>\n",
       "    <tr>\n",
       "      <th>7711</th>\n",
       "      <td>45437</td>\n",
       "      <td>In a Heartbeat</td>\n",
       "      <td>['family', 'animation', 'romance', 'comedy']</td>\n",
       "      <td>4.0</td>\n",
       "      <td>8.3</td>\n",
       "      <td>146.0</td>\n",
       "      <td>2017.0</td>\n",
       "      <td>Almaâs family has been producing quality oli...</td>\n",
       "    </tr>\n",
       "    <tr>\n",
       "      <th>7712</th>\n",
       "      <td>45443</td>\n",
       "      <td>The Man with the Rubber Head</td>\n",
       "      <td>['comedy', 'fantasy', 'science fiction']</td>\n",
       "      <td>3.0</td>\n",
       "      <td>7.6</td>\n",
       "      <td>29.0</td>\n",
       "      <td>1901.0</td>\n",
       "      <td>In the future, national boundaries have been b...</td>\n",
       "    </tr>\n",
       "    <tr>\n",
       "      <th>7713</th>\n",
       "      <td>45462</td>\n",
       "      <td>Century of Birthing</td>\n",
       "      <td>['drama']</td>\n",
       "      <td>360.0</td>\n",
       "      <td>9.0</td>\n",
       "      <td>3.0</td>\n",
       "      <td>2011.0</td>\n",
       "      <td>Lt. Bobby Quinn is a Special Forces commando k...</td>\n",
       "    </tr>\n",
       "  </tbody>\n",
       "</table>\n",
       "</div>"
      ],
      "text/plain": [
       "      index                         title  \\\n",
       "7709  45418                   Dyketactics   \n",
       "7710  45421                    Pickpocket   \n",
       "7711  45437                In a Heartbeat   \n",
       "7712  45443  The Man with the Rubber Head   \n",
       "7713  45462           Century of Birthing   \n",
       "\n",
       "                                            genres  runtime  vote_average  \\\n",
       "7709                                     ['drama']      4.0           8.0   \n",
       "7710                          ['drama', 'foreign']    105.0           7.2   \n",
       "7711  ['family', 'animation', 'romance', 'comedy']      4.0           8.3   \n",
       "7712      ['comedy', 'fantasy', 'science fiction']      3.0           7.6   \n",
       "7713                                     ['drama']    360.0           9.0   \n",
       "\n",
       "      vote_count    year                                           overview  \n",
       "7709         1.0  1974.0  Klasa II B jako zadanie domowe otrzymuje do na...  \n",
       "7710        13.0  1997.0  It's Christmas, and children at an orphanage i...  \n",
       "7711       146.0  2017.0  Almaâs family has been producing quality oli...  \n",
       "7712        29.0  1901.0  In the future, national boundaries have been b...  \n",
       "7713         3.0  2011.0  Lt. Bobby Quinn is a Special Forces commando k...  "
      ]
     },
     "execution_count": 6,
     "metadata": {},
     "output_type": "execute_result"
    }
   ],
   "source": [
    "movies_new.tail()"
   ]
  },
  {
   "cell_type": "code",
   "execution_count": 7,
   "id": "05adab3d-fb49-4a53-9073-894014643417",
   "metadata": {},
   "outputs": [],
   "source": [
    "from sklearn.feature_extraction.text import TfidfVectorizer"
   ]
  },
  {
   "cell_type": "code",
   "execution_count": 8,
   "id": "e9bab10a-3981-4edd-9caa-0ced2b5642d2",
   "metadata": {},
   "outputs": [
    {
     "data": {
      "text/plain": [
       "156"
      ]
     },
     "execution_count": 8,
     "metadata": {},
     "output_type": "execute_result"
    }
   ],
   "source": [
    "movies_new['overview'].isna().sum()"
   ]
  },
  {
   "cell_type": "code",
   "execution_count": 9,
   "id": "e7291fe2-93c8-4a17-b145-f9eb15f095b1",
   "metadata": {},
   "outputs": [],
   "source": [
    "movies_new['overview'].fillna(\"\", inplace=True)"
   ]
  },
  {
   "cell_type": "code",
   "execution_count": 10,
   "id": "33e9d493-c89a-4af9-9963-440bc0cfde6d",
   "metadata": {},
   "outputs": [
    {
     "data": {
      "text/plain": [
       "0"
      ]
     },
     "execution_count": 10,
     "metadata": {},
     "output_type": "execute_result"
    }
   ],
   "source": [
    "movies_new['overview'].isna().sum()"
   ]
  },
  {
   "cell_type": "code",
   "execution_count": 11,
   "id": "5ae90000-3663-4edd-a970-a8d63554e9f9",
   "metadata": {},
   "outputs": [],
   "source": [
    "tfidf = TfidfVectorizer(stop_words='english')\n",
    "tfidf_matrix = tfidf.fit_transform(movies_new['overview'])"
   ]
  },
  {
   "cell_type": "code",
   "execution_count": 12,
   "id": "007613fa-1595-44a2-a49f-048cc9f6257d",
   "metadata": {},
   "outputs": [],
   "source": [
    "from sklearn.metrics.pairwise import linear_kernel\n",
    "\n",
    "cosine_sim = linear_kernel(tfidf_matrix, tfidf_matrix)"
   ]
  },
  {
   "cell_type": "code",
   "execution_count": 13,
   "id": "e68d9750-a975-45db-ac46-2020e225624f",
   "metadata": {},
   "outputs": [
    {
     "data": {
      "text/plain": [
       "(7714, 7714)"
      ]
     },
     "execution_count": 13,
     "metadata": {},
     "output_type": "execute_result"
    }
   ],
   "source": [
    "cosine_sim.shape"
   ]
  },
  {
   "cell_type": "code",
   "execution_count": 14,
   "id": "5af962ce-72c7-4162-98cc-155dc4aaef45",
   "metadata": {},
   "outputs": [
    {
     "data": {
      "text/plain": [
       "array([1.        , 0.        , 0.        , ..., 0.        , 0.00434795,\n",
       "       0.        ])"
      ]
     },
     "execution_count": 14,
     "metadata": {},
     "output_type": "execute_result"
    }
   ],
   "source": [
    "cosine_sim[0]"
   ]
  },
  {
   "cell_type": "code",
   "execution_count": 15,
   "id": "633851c1-1206-480e-b98f-651ca1c1ff1d",
   "metadata": {},
   "outputs": [
    {
     "data": {
      "text/plain": [
       "title\n",
       "Toy Story    0\n",
       "Heat         1\n",
       "Balto        2\n",
       "Nixon        3\n",
       "Casino       4\n",
       "dtype: int64"
      ]
     },
     "execution_count": 15,
     "metadata": {},
     "output_type": "execute_result"
    }
   ],
   "source": [
    "indices = pd.Series(movies_new.index, index = movies_new['title']).drop_duplicates()\n",
    "indices.head()"
   ]
  },
  {
   "cell_type": "code",
   "execution_count": 16,
   "id": "e7f760c1-6bb3-4e65-b634-7d676ab2bec2",
   "metadata": {},
   "outputs": [
    {
     "data": {
      "text/plain": [
       "[(3029, 0.5177099048466635),\n",
       " (7267, 0.21184972709165517),\n",
       " (235, 0.1666072877377134),\n",
       " (3371, 0.1387599360974652),\n",
       " (2384, 0.1360853436429296),\n",
       " (5081, 0.11057769270196234),\n",
       " (753, 0.10571923427313008),\n",
       " (3993, 0.09946695661989194),\n",
       " (474, 0.0892602578779177),\n",
       " (3230, 0.08460592218131369)]"
      ]
     },
     "execution_count": 16,
     "metadata": {},
     "output_type": "execute_result"
    }
   ],
   "source": [
    "similarity_scores = list(enumerate(cosine_sim[0]))\n",
    "similarity_scores = sorted(similarity_scores, key = lambda x:x[1], reverse = True)\n",
    "similarity_scores[1:11]"
   ]
  },
  {
   "cell_type": "code",
   "execution_count": 17,
   "id": "b0b28352-2f66-4f11-94f9-230454c9fac5",
   "metadata": {},
   "outputs": [],
   "source": [
    "def movie_recommendations(title):\n",
    "  idx = indices[title]\n",
    "  similarity_scores = list(enumerate(cosine_sim[idx]))\n",
    "  similarity_scores = sorted(similarity_scores, key = lambda x:x[1], reverse = True)\n",
    "  final_scores = similarity_scores[1:11]\n",
    "  movie_indices = [i[0] for i in final_scores]\n",
    "  return movies_new['title'].iloc[movie_indices]"
   ]
  },
  {
   "cell_type": "code",
   "execution_count": 18,
   "id": "7e2ac044-b52d-4b33-8b15-84a3b40e63a6",
   "metadata": {},
   "outputs": [
    {
     "data": {
      "text/html": [
       "<div>\n",
       "<style scoped>\n",
       "    .dataframe tbody tr th:only-of-type {\n",
       "        vertical-align: middle;\n",
       "    }\n",
       "\n",
       "    .dataframe tbody tr th {\n",
       "        vertical-align: top;\n",
       "    }\n",
       "\n",
       "    .dataframe thead th {\n",
       "        text-align: right;\n",
       "    }\n",
       "</style>\n",
       "<table border=\"1\" class=\"dataframe\">\n",
       "  <thead>\n",
       "    <tr style=\"text-align: right;\">\n",
       "      <th></th>\n",
       "      <th>index</th>\n",
       "      <th>title</th>\n",
       "      <th>genres</th>\n",
       "      <th>runtime</th>\n",
       "      <th>vote_average</th>\n",
       "      <th>vote_count</th>\n",
       "      <th>year</th>\n",
       "      <th>overview</th>\n",
       "    </tr>\n",
       "  </thead>\n",
       "  <tbody>\n",
       "    <tr>\n",
       "      <th>0</th>\n",
       "      <td>0</td>\n",
       "      <td>Toy Story</td>\n",
       "      <td>['animation', 'comedy', 'family']</td>\n",
       "      <td>81.0</td>\n",
       "      <td>7.7</td>\n",
       "      <td>5415.0</td>\n",
       "      <td>1995.0</td>\n",
       "      <td>Led by Woody, Andy's toys live happily in his ...</td>\n",
       "    </tr>\n",
       "    <tr>\n",
       "      <th>1</th>\n",
       "      <td>5</td>\n",
       "      <td>Heat</td>\n",
       "      <td>['action', 'crime', 'drama', 'thriller']</td>\n",
       "      <td>170.0</td>\n",
       "      <td>7.7</td>\n",
       "      <td>1886.0</td>\n",
       "      <td>1995.0</td>\n",
       "      <td>Obsessive master thief, Neil McCauley leads a ...</td>\n",
       "    </tr>\n",
       "    <tr>\n",
       "      <th>2</th>\n",
       "      <td>12</td>\n",
       "      <td>Balto</td>\n",
       "      <td>['family', 'animation', 'adventure']</td>\n",
       "      <td>78.0</td>\n",
       "      <td>7.1</td>\n",
       "      <td>423.0</td>\n",
       "      <td>1995.0</td>\n",
       "      <td>An outcast half-wolf risks his life to prevent...</td>\n",
       "    </tr>\n",
       "    <tr>\n",
       "      <th>3</th>\n",
       "      <td>13</td>\n",
       "      <td>Nixon</td>\n",
       "      <td>['history', 'drama']</td>\n",
       "      <td>192.0</td>\n",
       "      <td>7.1</td>\n",
       "      <td>72.0</td>\n",
       "      <td>1995.0</td>\n",
       "      <td>An all-star cast powers this epic look at Amer...</td>\n",
       "    </tr>\n",
       "    <tr>\n",
       "      <th>4</th>\n",
       "      <td>15</td>\n",
       "      <td>Casino</td>\n",
       "      <td>['drama', 'crime']</td>\n",
       "      <td>178.0</td>\n",
       "      <td>7.8</td>\n",
       "      <td>1343.0</td>\n",
       "      <td>1995.0</td>\n",
       "      <td>The life of the gambling paradise â Las Vega...</td>\n",
       "    </tr>\n",
       "  </tbody>\n",
       "</table>\n",
       "</div>"
      ],
      "text/plain": [
       "   index      title                                    genres  runtime  \\\n",
       "0      0  Toy Story         ['animation', 'comedy', 'family']     81.0   \n",
       "1      5       Heat  ['action', 'crime', 'drama', 'thriller']    170.0   \n",
       "2     12      Balto      ['family', 'animation', 'adventure']     78.0   \n",
       "3     13      Nixon                      ['history', 'drama']    192.0   \n",
       "4     15     Casino                        ['drama', 'crime']    178.0   \n",
       "\n",
       "   vote_average  vote_count    year  \\\n",
       "0           7.7      5415.0  1995.0   \n",
       "1           7.7      1886.0  1995.0   \n",
       "2           7.1       423.0  1995.0   \n",
       "3           7.1        72.0  1995.0   \n",
       "4           7.8      1343.0  1995.0   \n",
       "\n",
       "                                            overview  \n",
       "0  Led by Woody, Andy's toys live happily in his ...  \n",
       "1  Obsessive master thief, Neil McCauley leads a ...  \n",
       "2  An outcast half-wolf risks his life to prevent...  \n",
       "3  An all-star cast powers this epic look at Amer...  \n",
       "4  The life of the gambling paradise â Las Vega...  "
      ]
     },
     "execution_count": 18,
     "metadata": {},
     "output_type": "execute_result"
    }
   ],
   "source": [
    "movies_new.head(5)"
   ]
  },
  {
   "cell_type": "code",
   "execution_count": 19,
   "id": "9c3e2c9f-565b-4939-95ca-7ad6e4b17365",
   "metadata": {},
   "outputs": [
    {
     "name": "stdin",
     "output_type": "stream",
     "text": [
      "enter the movie you watched Heat\n"
     ]
    },
    {
     "data": {
      "text/plain": [
       "3450                         Woyzeck\n",
       "4038    The Woman in the Septic Tank\n",
       "7589                        Radiator\n",
       "5066                       Furious 7\n",
       "1882              Days of Being Wild\n",
       "6770         Maheshinte Prathikaaram\n",
       "3921            Last Cowboy Standing\n",
       "2091                Ivan's Childhood\n",
       "6829                  Audrie & Daisy\n",
       "5436                         Mustang\n",
       "Name: title, dtype: object"
      ]
     },
     "execution_count": 19,
     "metadata": {},
     "output_type": "execute_result"
    }
   ],
   "source": [
    "watched = input(\"enter the movie you watched\")\n",
    "movie_recommendations(watched)"
   ]
  },
  {
   "cell_type": "code",
   "execution_count": 20,
   "id": "add3cc95-4673-4edc-bc83-6af0d71fac57",
   "metadata": {},
   "outputs": [],
   "source": [
    "# More search tools here: https://colab.research.google.com/drive/1wOlSiLYfUJEOKu1mor9Tlfz38Ucof6C5#scrollTo=1fZ0yduaXjNJ"
   ]
  },
  {
   "cell_type": "code",
   "execution_count": null,
   "id": "1dee04e1-e8b6-4139-97d1-5ed104526482",
   "metadata": {},
   "outputs": [],
   "source": []
  }
 ],
 "metadata": {
  "kernelspec": {
   "display_name": "Python 3 (ipykernel)",
   "language": "python",
   "name": "python3"
  },
  "language_info": {
   "codemirror_mode": {
    "name": "ipython",
    "version": 3
   },
   "file_extension": ".py",
   "mimetype": "text/x-python",
   "name": "python",
   "nbconvert_exporter": "python",
   "pygments_lexer": "ipython3",
   "version": "3.11.7"
  }
 },
 "nbformat": 4,
 "nbformat_minor": 5
}
