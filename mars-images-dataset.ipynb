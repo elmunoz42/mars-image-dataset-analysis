{
 "cells": [
  {
   "cell_type": "code",
   "execution_count": 1,
   "id": "3e9c65fc-9f82-43fb-b269-11ad759948b0",
   "metadata": {},
   "outputs": [],
   "source": [
    "import pandas as pd"
   ]
  },
  {
   "cell_type": "code",
   "execution_count": 30,
   "id": "3183db3d-99ad-4000-ad15-d521328e831b",
   "metadata": {},
   "outputs": [
    {
     "name": "stdout",
     "output_type": "stream",
     "text": [
      "  Info1   Info2 Info3 Info4 Info5 Variation\n",
      "0   ESP  011283  2265   RED  0030      r180\n",
      "1   ESP  011289  1950   RED  0021       brt\n",
      "2   ESP  011289  1950   RED  0021       r90\n",
      "3   ESP  011289  1950   RED  0023        fh\n",
      "4   ESP  011289  1950   RED  0024        fv\n",
      "       Info1   Info2 Info3 Info4 Info5 Variation\n",
      "count     32      32    32    32    32        32\n",
      "unique     1       2     2     1    25         7\n",
      "top      ESP  011289  1950   RED  0081        fh\n",
      "freq      32      31    31    32     3         7\n",
      "[{'File Name': 'ESP_011283_2265_RED-0030-r180', 'Link': 'https://space-exploration.news/wp-content/uploads/mars-images/some-images/ESP_011283_2265_RED-0030-r180'}, {'File Name': 'ESP_011289_1950_RED-0021-brt', 'Link': 'https://space-exploration.news/wp-content/uploads/mars-images/some-images/ESP_011289_1950_RED-0021-brt'}, {'File Name': 'ESP_011289_1950_RED-0021-r90', 'Link': 'https://space-exploration.news/wp-content/uploads/mars-images/some-images/ESP_011289_1950_RED-0021-r90'}, {'File Name': 'ESP_011289_1950_RED-0023-fh', 'Link': 'https://space-exploration.news/wp-content/uploads/mars-images/some-images/ESP_011289_1950_RED-0023-fh'}, {'File Name': 'ESP_011289_1950_RED-0024-fv', 'Link': 'https://space-exploration.news/wp-content/uploads/mars-images/some-images/ESP_011289_1950_RED-0024-fv'}, {'File Name': 'ESP_011289_1950_RED-0024-r180', 'Link': 'https://space-exploration.news/wp-content/uploads/mars-images/some-images/ESP_011289_1950_RED-0024-r180'}, {'File Name': 'ESP_011289_1950_RED-0026-r270', 'Link': 'https://space-exploration.news/wp-content/uploads/mars-images/some-images/ESP_011289_1950_RED-0026-r270'}, {'File Name': 'ESP_011289_1950_RED-0040-fh', 'Link': 'https://space-exploration.news/wp-content/uploads/mars-images/some-images/ESP_011289_1950_RED-0040-fh'}, {'File Name': 'ESP_011289_1950_RED-0043-brt', 'Link': 'https://space-exploration.news/wp-content/uploads/mars-images/some-images/ESP_011289_1950_RED-0043-brt'}, {'File Name': 'ESP_011289_1950_RED-0043-r90', 'Link': 'https://space-exploration.news/wp-content/uploads/mars-images/some-images/ESP_011289_1950_RED-0043-r90'}, {'File Name': 'ESP_011289_1950_RED-0050-r270', 'Link': 'https://space-exploration.news/wp-content/uploads/mars-images/some-images/ESP_011289_1950_RED-0050-r270'}, {'File Name': 'ESP_011289_1950_RED-0058-r180', 'Link': 'https://space-exploration.news/wp-content/uploads/mars-images/some-images/ESP_011289_1950_RED-0058-r180'}, {'File Name': 'ESP_011289_1950_RED-0063-fv', 'Link': 'https://space-exploration.news/wp-content/uploads/mars-images/some-images/ESP_011289_1950_RED-0063-fv'}, {'File Name': 'ESP_011289_1950_RED-0081-brt', 'Link': 'https://space-exploration.news/wp-content/uploads/mars-images/some-images/ESP_011289_1950_RED-0081-brt'}, {'File Name': 'ESP_011289_1950_RED-0081-r90', 'Link': 'https://space-exploration.news/wp-content/uploads/mars-images/some-images/ESP_011289_1950_RED-0081-r90'}, {'File Name': 'ESP_011289_1950_RED-0081-r270', 'Link': 'https://space-exploration.news/wp-content/uploads/mars-images/some-images/ESP_011289_1950_RED-0081-r270'}, {'File Name': 'ESP_011289_1950_RED-0083-r180', 'Link': 'https://space-exploration.news/wp-content/uploads/mars-images/some-images/ESP_011289_1950_RED-0083-r180'}, {'File Name': 'ESP_011289_1950_RED-0085-fh', 'Link': 'https://space-exploration.news/wp-content/uploads/mars-images/some-images/ESP_011289_1950_RED-0085-fh'}, {'File Name': 'ESP_011289_1950_RED-0097-fh', 'Link': 'https://space-exploration.news/wp-content/uploads/mars-images/some-images/ESP_011289_1950_RED-0097-fh'}, {'File Name': 'ESP_011289_1950_RED-0098-brt', 'Link': 'https://space-exploration.news/wp-content/uploads/mars-images/some-images/ESP_011289_1950_RED-0098-brt'}, {'File Name': 'ESP_011289_1950_RED-0098-190', 'Link': 'https://space-exploration.news/wp-content/uploads/mars-images/some-images/ESP_011289_1950_RED-0098-190'}, {'File Name': 'ESP_011289_1950_RED-0104-190', 'Link': 'https://space-exploration.news/wp-content/uploads/mars-images/some-images/ESP_011289_1950_RED-0104-190'}, {'File Name': 'ESP_011289_1950_RED-0112-r180', 'Link': 'https://space-exploration.news/wp-content/uploads/mars-images/some-images/ESP_011289_1950_RED-0112-r180'}, {'File Name': 'ESP_011289_1950_RED-0119-fh', 'Link': 'https://space-exploration.news/wp-content/uploads/mars-images/some-images/ESP_011289_1950_RED-0119-fh'}, {'File Name': 'ESP_011289_1950_RED-0119-brt', 'Link': 'https://space-exploration.news/wp-content/uploads/mars-images/some-images/ESP_011289_1950_RED-0119-brt'}, {'File Name': 'ESP_011289_1950_RED-0120-r90', 'Link': 'https://space-exploration.news/wp-content/uploads/mars-images/some-images/ESP_011289_1950_RED-0120-r90'}, {'File Name': 'ESP_011289_1950_RED-0121-r90', 'Link': 'https://space-exploration.news/wp-content/uploads/mars-images/some-images/ESP_011289_1950_RED-0121-r90'}, {'File Name': 'ESP_011289_1950_RED-0122-r90', 'Link': 'https://space-exploration.news/wp-content/uploads/mars-images/some-images/ESP_011289_1950_RED-0122-r90'}, {'File Name': 'ESP_011289_1950_RED-0131-fh', 'Link': 'https://space-exploration.news/wp-content/uploads/mars-images/some-images/ESP_011289_1950_RED-0131-fh'}, {'File Name': 'ESP_011289_1950_RED-0140-fh', 'Link': 'https://space-exploration.news/wp-content/uploads/mars-images/some-images/ESP_011289_1950_RED-0140-fh'}, {'File Name': 'ESP_011289_1950_RED-0147-fv', 'Link': 'https://space-exploration.news/wp-content/uploads/mars-images/some-images/ESP_011289_1950_RED-0147-fv'}, {'File Name': 'ESP_011289_1950_RED-0150-brt', 'Link': 'https://space-exploration.news/wp-content/uploads/mars-images/some-images/ESP_011289_1950_RED-0150-brt'}]\n"
     ]
    }
   ],
   "source": [
    "import pandas as pd\n",
    "\n",
    "# Example list of image filenames\n",
    "image_filenames = [\n",
    "    \"ESP_011283_2265_RED-0030-r180\",\n",
    "    \"ESP_011289_1950_RED-0021-brt\",\n",
    "    \"ESP_011289_1950_RED-0021-r90\",\n",
    "    \"ESP_011289_1950_RED-0023-fh\",\n",
    "    \"ESP_011289_1950_RED-0024-fv\",\n",
    "    \"ESP_011289_1950_RED-0024-r180\",\n",
    "    \"ESP_011289_1950_RED-0026-r270\",\n",
    "    \"ESP_011289_1950_RED-0039\",\n",
    "    \"ESP_011289_1950_RED-0040-fh\",\n",
    "    \"ESP_011289_1950_RED-0043-brt\",\n",
    "    \"ESP_011289_1950_RED-0043-r90\",\n",
    "    \"ESP_011289_1950_RED-0050-r270\",\n",
    "    \"ESP_011289_1950_RED-0058-r180\",\n",
    "    \"ESP_011289_1950_RED-0063-fv\",\n",
    "    \"ESP_011289_1950_RED-0081-brt\",\n",
    "    \"ESP_011289_1950_RED-0081-r90\",\n",
    "    \"ESP_011289_1950_RED-0081-r270\",\n",
    "    \"ESP_011289_1950_RED-0083-r180\",\n",
    "    \"ESP_011289_1950_RED-0085-fh\",\n",
    "    \"ESP_011289_1950_RED-0097-fh\",\n",
    "    \"ESP_011289_1950_RED-0098-brt\",\n",
    "    \"ESP_011289_1950_RED-0098-190\",\n",
    "    \"ESP_011289_1950_RED-0104-190\",\n",
    "    \"ESP_011289_1950_RED-0112-r180\",\n",
    "    \"ESP_011289_1950_RED-0119-fh\",\n",
    "    \"ESP_011289_1950_RED-0119-brt\",\n",
    "    \"ESP_011289_1950_RED-0120-r90\",\n",
    "    \"ESP_011289_1950_RED-0121-r90\",\n",
    "    \"ESP_011289_1950_RED-0122-r90\",\n",
    "    \"ESP_011289_1950_RED-0131-fh\",\n",
    "    \"ESP_011289_1950_RED-0140-fh\",\n",
    "    \"ESP_011289_1950_RED-0147-fv\",\n",
    "    \"ESP_011289_1950_RED-0150-brt\"\n",
    "]\n",
    "\n",
    "# Initialize an empty DataFrame\n",
    "df = pd.DataFrame(columns=[\"Info1\",\"Info2\",\"Info3\",\"Info4\", \"Info5\",\"Variation\"])\n",
    "image_links = [] \n",
    "\n",
    "# Extract image IDs and variations\n",
    "for filename in image_filenames:\n",
    "    image_info, variationCombo = filename.split(\"-\", 1)  # Split only once\n",
    "    if len(variationCombo.split(\"-\", 1)) == 2:\n",
    "        info_5, variation = variationCombo.split(\"-\", 1)  # Split only once\n",
    "    else:\n",
    "        continue\n",
    "    if len(image_info.split(\"_\",3)) == 4:\n",
    "        info_1,info_2,info_3,info_4 = image_info.split(\"_\",3) #Split three times\n",
    "    else:\n",
    "        continue\n",
    "    df = df._append({\"Info1\": info_1,\"Info2\": info_2,\"Info3\": info_3,\"Info4\": info_4, \"Info5\":info_5, \"Variation\": variation}, ignore_index=True)\n",
    "    image_links.append({\"File Name\": filename, \"Link\": f\"https://space-exploration.news/wp-content/uploads/mars-images/some-images/{filename}\"})\n",
    "\n",
    "\n",
    "# Display the resulting DataFrame\n",
    "print(df.head())\n",
    "print(df.describe())\n",
    "print(image_links)\n"
   ]
  },
  {
   "cell_type": "code",
   "execution_count": null,
   "id": "44e267a3-f130-4d9a-810f-6f006396569e",
   "metadata": {},
   "outputs": [],
   "source": []
  }
 ],
 "metadata": {
  "kernelspec": {
   "display_name": "Python 3 (ipykernel)",
   "language": "python",
   "name": "python3"
  },
  "language_info": {
   "codemirror_mode": {
    "name": "ipython",
    "version": 3
   },
   "file_extension": ".py",
   "mimetype": "text/x-python",
   "name": "python",
   "nbconvert_exporter": "python",
   "pygments_lexer": "ipython3",
   "version": "3.11.7"
  }
 },
 "nbformat": 4,
 "nbformat_minor": 5
}
